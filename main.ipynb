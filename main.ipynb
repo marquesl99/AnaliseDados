{
 "cells": [
  {
   "cell_type": "code",
   "execution_count": 1,
   "metadata": {},
   "outputs": [
    {
     "data": {
      "text/html": [
       "<div>\n",
       "<style scoped>\n",
       "    .dataframe tbody tr th:only-of-type {\n",
       "        vertical-align: middle;\n",
       "    }\n",
       "\n",
       "    .dataframe tbody tr th {\n",
       "        vertical-align: top;\n",
       "    }\n",
       "\n",
       "    .dataframe thead th {\n",
       "        text-align: right;\n",
       "    }\n",
       "</style>\n",
       "<table border=\"1\" class=\"dataframe\">\n",
       "  <thead>\n",
       "    <tr style=\"text-align: right;\">\n",
       "      <th></th>\n",
       "      <th>NR. Pedido</th>\n",
       "      <th>Mês</th>\n",
       "      <th>Ano</th>\n",
       "      <th>Produto</th>\n",
       "      <th>Quantidade</th>\n",
       "      <th>Preço Unidade</th>\n",
       "      <th>Total</th>\n",
       "      <th>Cliente</th>\n",
       "      <th>Vendedor</th>\n",
       "      <th>Estado</th>\n",
       "      <th>Cidade</th>\n",
       "    </tr>\n",
       "  </thead>\n",
       "  <tbody>\n",
       "    <tr>\n",
       "      <th>0</th>\n",
       "      <td>1</td>\n",
       "      <td>Dezembro</td>\n",
       "      <td>2020</td>\n",
       "      <td>Mouse</td>\n",
       "      <td>1.0</td>\n",
       "      <td>60</td>\n",
       "      <td>60</td>\n",
       "      <td>Luan Oliveira</td>\n",
       "      <td>Francisco</td>\n",
       "      <td>ALAGOAS</td>\n",
       "      <td>MACEIÓ</td>\n",
       "    </tr>\n",
       "    <tr>\n",
       "      <th>1</th>\n",
       "      <td>2</td>\n",
       "      <td>janeiro</td>\n",
       "      <td>2020</td>\n",
       "      <td>Livro</td>\n",
       "      <td>30.0</td>\n",
       "      <td>45</td>\n",
       "      <td>1350</td>\n",
       "      <td>Ana</td>\n",
       "      <td>Elaine</td>\n",
       "      <td>ACRE</td>\n",
       "      <td>RIO BRANCO</td>\n",
       "    </tr>\n",
       "    <tr>\n",
       "      <th>2</th>\n",
       "      <td>3</td>\n",
       "      <td>fevereiro</td>\n",
       "      <td>2021</td>\n",
       "      <td>Caderno</td>\n",
       "      <td>12.0</td>\n",
       "      <td>11</td>\n",
       "      <td>132</td>\n",
       "      <td>Pedro</td>\n",
       "      <td>Elaine</td>\n",
       "      <td>ACRE</td>\n",
       "      <td>RIO BRANCO</td>\n",
       "    </tr>\n",
       "    <tr>\n",
       "      <th>3</th>\n",
       "      <td>4</td>\n",
       "      <td>março</td>\n",
       "      <td>2022</td>\n",
       "      <td>Fones de ouvido</td>\n",
       "      <td>60.0</td>\n",
       "      <td>120</td>\n",
       "      <td>7200</td>\n",
       "      <td>Renato</td>\n",
       "      <td>Murilo</td>\n",
       "      <td>MINAS GERAIS</td>\n",
       "      <td>BELO HORIZONTE</td>\n",
       "    </tr>\n",
       "    <tr>\n",
       "      <th>4</th>\n",
       "      <td>5</td>\n",
       "      <td>abril</td>\n",
       "      <td>2020</td>\n",
       "      <td>Livro</td>\n",
       "      <td>30.0</td>\n",
       "      <td>45</td>\n",
       "      <td>1350</td>\n",
       "      <td>Ana</td>\n",
       "      <td>Sergio</td>\n",
       "      <td>SÃO PAULO</td>\n",
       "      <td>SÃO PAULO</td>\n",
       "    </tr>\n",
       "    <tr>\n",
       "      <th>...</th>\n",
       "      <td>...</td>\n",
       "      <td>...</td>\n",
       "      <td>...</td>\n",
       "      <td>...</td>\n",
       "      <td>...</td>\n",
       "      <td>...</td>\n",
       "      <td>...</td>\n",
       "      <td>...</td>\n",
       "      <td>...</td>\n",
       "      <td>...</td>\n",
       "      <td>...</td>\n",
       "    </tr>\n",
       "    <tr>\n",
       "      <th>995</th>\n",
       "      <td>996</td>\n",
       "      <td>fevereiro</td>\n",
       "      <td>2021</td>\n",
       "      <td>Micro SD</td>\n",
       "      <td>50.0</td>\n",
       "      <td>98</td>\n",
       "      <td>4900</td>\n",
       "      <td>Carla</td>\n",
       "      <td>Elaine</td>\n",
       "      <td>ALAGOAS</td>\n",
       "      <td>MACEIÓ</td>\n",
       "    </tr>\n",
       "    <tr>\n",
       "      <th>996</th>\n",
       "      <td>997</td>\n",
       "      <td>março</td>\n",
       "      <td>2022</td>\n",
       "      <td>Lapiseira</td>\n",
       "      <td>6.0</td>\n",
       "      <td>5</td>\n",
       "      <td>30</td>\n",
       "      <td>Bruno</td>\n",
       "      <td>Francisco</td>\n",
       "      <td>ALAGOAS</td>\n",
       "      <td>MACEIÓ</td>\n",
       "    </tr>\n",
       "    <tr>\n",
       "      <th>997</th>\n",
       "      <td>998</td>\n",
       "      <td>abril</td>\n",
       "      <td>2020</td>\n",
       "      <td>Fones de ouvido</td>\n",
       "      <td>60.0</td>\n",
       "      <td>120</td>\n",
       "      <td>7200</td>\n",
       "      <td>Renato</td>\n",
       "      <td>Murilo</td>\n",
       "      <td>MINAS GERAIS</td>\n",
       "      <td>BELO HORIZONTE</td>\n",
       "    </tr>\n",
       "    <tr>\n",
       "      <th>998</th>\n",
       "      <td>999</td>\n",
       "      <td>janeiro</td>\n",
       "      <td>2020</td>\n",
       "      <td>Fones de ouvido</td>\n",
       "      <td>25.0</td>\n",
       "      <td>120</td>\n",
       "      <td>3000</td>\n",
       "      <td>Eduardo</td>\n",
       "      <td>Flavia</td>\n",
       "      <td>ALAGOAS</td>\n",
       "      <td>MACEIÓ</td>\n",
       "    </tr>\n",
       "    <tr>\n",
       "      <th>999</th>\n",
       "      <td>1000</td>\n",
       "      <td>maio</td>\n",
       "      <td>2020</td>\n",
       "      <td>Livro</td>\n",
       "      <td>30.0</td>\n",
       "      <td>45</td>\n",
       "      <td>1350</td>\n",
       "      <td>Ana</td>\n",
       "      <td>Sergio</td>\n",
       "      <td>ACRE</td>\n",
       "      <td>RIO BRANCO</td>\n",
       "    </tr>\n",
       "  </tbody>\n",
       "</table>\n",
       "<p>1000 rows × 11 columns</p>\n",
       "</div>"
      ],
      "text/plain": [
       "     NR. Pedido        Mês   Ano          Produto  Quantidade  Preço Unidade  \\\n",
       "0             1   Dezembro  2020            Mouse         1.0             60   \n",
       "1             2    janeiro  2020            Livro        30.0             45   \n",
       "2             3  fevereiro  2021          Caderno        12.0             11   \n",
       "3             4      março  2022  Fones de ouvido        60.0            120   \n",
       "4             5      abril  2020            Livro        30.0             45   \n",
       "..          ...        ...   ...              ...         ...            ...   \n",
       "995         996  fevereiro  2021         Micro SD        50.0             98   \n",
       "996         997      março  2022        Lapiseira         6.0              5   \n",
       "997         998      abril  2020  Fones de ouvido        60.0            120   \n",
       "998         999    janeiro  2020  Fones de ouvido        25.0            120   \n",
       "999        1000       maio  2020            Livro        30.0             45   \n",
       "\n",
       "     Total        Cliente   Vendedor       Estado           Cidade  \n",
       "0       60  Luan Oliveira  Francisco       ALAGOAS          MACEIÓ  \n",
       "1     1350            Ana     Elaine          ACRE      RIO BRANCO  \n",
       "2      132          Pedro     Elaine          ACRE      RIO BRANCO  \n",
       "3     7200         Renato     Murilo  MINAS GERAIS  BELO HORIZONTE  \n",
       "4     1350            Ana     Sergio     SÃO PAULO       SÃO PAULO  \n",
       "..     ...            ...        ...           ...             ...  \n",
       "995   4900          Carla     Elaine       ALAGOAS          MACEIÓ  \n",
       "996     30          Bruno  Francisco       ALAGOAS          MACEIÓ  \n",
       "997   7200         Renato     Murilo  MINAS GERAIS  BELO HORIZONTE  \n",
       "998   3000        Eduardo     Flavia       ALAGOAS          MACEIÓ  \n",
       "999   1350            Ana     Sergio          ACRE      RIO BRANCO  \n",
       "\n",
       "[1000 rows x 11 columns]"
      ]
     },
     "metadata": {},
     "output_type": "display_data"
    }
   ],
   "source": [
    "import pandas as pd\n",
    "\n",
    "tabela = pd.read_excel(\"dados_vendas.xlsx\")\n",
    "display(tabela)"
   ]
  },
  {
   "cell_type": "code",
   "execution_count": 4,
   "metadata": {},
   "outputs": [
    {
     "name": "stdout",
     "output_type": "stream",
     "text": [
      "<class 'pandas.core.frame.DataFrame'>\n",
      "RangeIndex: 1000 entries, 0 to 999\n",
      "Data columns (total 10 columns):\n",
      " #   Column         Non-Null Count  Dtype  \n",
      "---  ------         --------------  -----  \n",
      " 0   Mês            1000 non-null   object \n",
      " 1   Ano            1000 non-null   int64  \n",
      " 2   Produto        1000 non-null   object \n",
      " 3   Quantidade     992 non-null    float64\n",
      " 4   Preço Unidade  1000 non-null   int64  \n",
      " 5   Total          1000 non-null   int64  \n",
      " 6   Cliente        1000 non-null   object \n",
      " 7   Vendedor       1000 non-null   object \n",
      " 8   Estado         1000 non-null   object \n",
      " 9   Cidade         1000 non-null   object \n",
      "dtypes: float64(1), int64(3), object(6)\n",
      "memory usage: 78.3+ KB\n"
     ]
    },
    {
     "data": {
      "text/plain": [
       "None"
      ]
     },
     "metadata": {},
     "output_type": "display_data"
    }
   ],
   "source": [
    "display(tabela.info())"
   ]
  },
  {
   "cell_type": "code",
   "execution_count": 5,
   "metadata": {},
   "outputs": [
    {
     "name": "stdout",
     "output_type": "stream",
     "text": [
      "<class 'pandas.core.frame.DataFrame'>\n",
      "Index: 992 entries, 0 to 999\n",
      "Data columns (total 10 columns):\n",
      " #   Column         Non-Null Count  Dtype  \n",
      "---  ------         --------------  -----  \n",
      " 0   Mês            992 non-null    object \n",
      " 1   Ano            992 non-null    int64  \n",
      " 2   Produto        992 non-null    object \n",
      " 3   Quantidade     992 non-null    float64\n",
      " 4   Preço Unidade  992 non-null    int64  \n",
      " 5   Total          992 non-null    int64  \n",
      " 6   Cliente        992 non-null    object \n",
      " 7   Vendedor       992 non-null    object \n",
      " 8   Estado         992 non-null    object \n",
      " 9   Cidade         992 non-null    object \n",
      "dtypes: float64(1), int64(3), object(6)\n",
      "memory usage: 85.2+ KB\n"
     ]
    },
    {
     "data": {
      "text/plain": [
       "None"
      ]
     },
     "metadata": {},
     "output_type": "display_data"
    }
   ],
   "source": [
    "tabela = tabela.dropna()\n",
    "\n",
    "display(tabela.info())"
   ]
  },
  {
   "cell_type": "code",
   "execution_count": 8,
   "metadata": {},
   "outputs": [
    {
     "data": {
      "text/plain": [
       "Produto\n",
       "Livro              232\n",
       "Fones de ouvido    231\n",
       "Caderno            130\n",
       "Mouse              125\n",
       "Micro SD           122\n",
       "Lapiseira          118\n",
       "Caixa de som        22\n",
       "Maleta               4\n",
       "Mangá                4\n",
       "Bolsa                2\n",
       "Action figure        2\n",
       "Name: count, dtype: int64"
      ]
     },
     "metadata": {},
     "output_type": "display_data"
    }
   ],
   "source": [
    "display(tabela[\"Produto\"].value_counts())"
   ]
  },
  {
   "cell_type": "code",
   "execution_count": 9,
   "metadata": {},
   "outputs": [],
   "source": [
    "df = pd.read_excel(\"dados_vendas.xlsx\")"
   ]
  },
  {
   "cell_type": "code",
   "execution_count": 14,
   "metadata": {},
   "outputs": [
    {
     "name": "stdout",
     "output_type": "stream",
     "text": [
      "     Vendedor          Produto  Quantidade_Vendida  Valor_Total\n",
      "0       Bruno    Action figure               300.0        21000\n",
      "1      Camila           Maleta               300.0        90000\n",
      "2      Elaine          Caderno              1561.0        17171\n",
      "3      Elaine        Lapiseira               434.0         2170\n",
      "4      Elaine            Livro              3450.0       157950\n",
      "5      Elaine         Micro SD              5080.0       495880\n",
      "6      Flavia  Fones de ouvido              2805.0       336600\n",
      "7   Francisco        Lapiseira               168.0          840\n",
      "8   Francisco         Micro SD              1730.0       181300\n",
      "9   Francisco            Mouse               970.0        59880\n",
      "10  Guilherme     Caixa de som               630.0        50400\n",
      "11       João         Micro SD               250.0         3000\n",
      "12    Mariana     Caixa de som                80.0         6400\n",
      "13    Mariana           Maleta              1300.0       390000\n",
      "14    Mariana            Mangá               260.0         7800\n",
      "15     Murilo  Fones de ouvido              7000.0       840000\n",
      "16     Sergio            Bolsa                60.0         3000\n",
      "17     Sergio        Lapiseira                60.0          300\n",
      "18     Sergio            Livro              3510.0       160650\n"
     ]
    }
   ],
   "source": [
    "vendas_por_vendedor_produto = df.groupby([\"Vendedor\", \"Produto\"]).agg(\n",
    "    Quantidade_Vendida=(\"Quantidade\", \"sum\"),\n",
    "    Valor_Total=(\"Total\", \"sum\")\n",
    ").reset_index()\n",
    "\n",
    "print(vendas_por_vendedor_produto)"
   ]
  },
  {
   "cell_type": "code",
   "execution_count": 17,
   "metadata": {},
   "outputs": [],
   "source": [
    "import plotly.express as px"
   ]
  },
  {
   "cell_type": "code",
   "execution_count": 18,
   "metadata": {},
   "outputs": [
    {
     "data": {
      "application/vnd.plotly.v1+json": {
       "config": {
        "plotlyServerURL": "https://plot.ly"
       },
       "data": [
        {
         "alignmentgroup": "True",
         "hovertemplate": "Produto=Action figure<br>Vendedor=%{x}<br>Quantidade/Valor=%{y}<extra></extra>",
         "legendgroup": "Action figure",
         "marker": {
          "color": "#636efa",
          "pattern": {
           "shape": ""
          }
         },
         "name": "Action figure",
         "offsetgroup": "Action figure",
         "orientation": "v",
         "showlegend": true,
         "textposition": "auto",
         "type": "bar",
         "x": [
          "Bruno",
          "Bruno"
         ],
         "xaxis": "x",
         "y": [
          300,
          21000
         ],
         "yaxis": "y"
        },
        {
         "alignmentgroup": "True",
         "hovertemplate": "Produto=Maleta<br>Vendedor=%{x}<br>Quantidade/Valor=%{y}<extra></extra>",
         "legendgroup": "Maleta",
         "marker": {
          "color": "#EF553B",
          "pattern": {
           "shape": ""
          }
         },
         "name": "Maleta",
         "offsetgroup": "Maleta",
         "orientation": "v",
         "showlegend": true,
         "textposition": "auto",
         "type": "bar",
         "x": [
          "Camila",
          "Mariana",
          "Camila",
          "Mariana"
         ],
         "xaxis": "x",
         "y": [
          300,
          1300,
          90000,
          390000
         ],
         "yaxis": "y"
        },
        {
         "alignmentgroup": "True",
         "hovertemplate": "Produto=Caderno<br>Vendedor=%{x}<br>Quantidade/Valor=%{y}<extra></extra>",
         "legendgroup": "Caderno",
         "marker": {
          "color": "#00cc96",
          "pattern": {
           "shape": ""
          }
         },
         "name": "Caderno",
         "offsetgroup": "Caderno",
         "orientation": "v",
         "showlegend": true,
         "textposition": "auto",
         "type": "bar",
         "x": [
          "Elaine",
          "Elaine"
         ],
         "xaxis": "x",
         "y": [
          1561,
          17171
         ],
         "yaxis": "y"
        },
        {
         "alignmentgroup": "True",
         "hovertemplate": "Produto=Lapiseira<br>Vendedor=%{x}<br>Quantidade/Valor=%{y}<extra></extra>",
         "legendgroup": "Lapiseira",
         "marker": {
          "color": "#ab63fa",
          "pattern": {
           "shape": ""
          }
         },
         "name": "Lapiseira",
         "offsetgroup": "Lapiseira",
         "orientation": "v",
         "showlegend": true,
         "textposition": "auto",
         "type": "bar",
         "x": [
          "Elaine",
          "Francisco",
          "Sergio",
          "Elaine",
          "Francisco",
          "Sergio"
         ],
         "xaxis": "x",
         "y": [
          434,
          168,
          60,
          2170,
          840,
          300
         ],
         "yaxis": "y"
        },
        {
         "alignmentgroup": "True",
         "hovertemplate": "Produto=Livro<br>Vendedor=%{x}<br>Quantidade/Valor=%{y}<extra></extra>",
         "legendgroup": "Livro",
         "marker": {
          "color": "#FFA15A",
          "pattern": {
           "shape": ""
          }
         },
         "name": "Livro",
         "offsetgroup": "Livro",
         "orientation": "v",
         "showlegend": true,
         "textposition": "auto",
         "type": "bar",
         "x": [
          "Elaine",
          "Sergio",
          "Elaine",
          "Sergio"
         ],
         "xaxis": "x",
         "y": [
          3450,
          3510,
          157950,
          160650
         ],
         "yaxis": "y"
        },
        {
         "alignmentgroup": "True",
         "hovertemplate": "Produto=Micro SD<br>Vendedor=%{x}<br>Quantidade/Valor=%{y}<extra></extra>",
         "legendgroup": "Micro SD",
         "marker": {
          "color": "#19d3f3",
          "pattern": {
           "shape": ""
          }
         },
         "name": "Micro SD",
         "offsetgroup": "Micro SD",
         "orientation": "v",
         "showlegend": true,
         "textposition": "auto",
         "type": "bar",
         "x": [
          "Elaine",
          "Francisco",
          "João",
          "Elaine",
          "Francisco",
          "João"
         ],
         "xaxis": "x",
         "y": [
          5080,
          1730,
          250,
          495880,
          181300,
          3000
         ],
         "yaxis": "y"
        },
        {
         "alignmentgroup": "True",
         "hovertemplate": "Produto=Fones de ouvido<br>Vendedor=%{x}<br>Quantidade/Valor=%{y}<extra></extra>",
         "legendgroup": "Fones de ouvido",
         "marker": {
          "color": "#FF6692",
          "pattern": {
           "shape": ""
          }
         },
         "name": "Fones de ouvido",
         "offsetgroup": "Fones de ouvido",
         "orientation": "v",
         "showlegend": true,
         "textposition": "auto",
         "type": "bar",
         "x": [
          "Flavia",
          "Murilo",
          "Flavia",
          "Murilo"
         ],
         "xaxis": "x",
         "y": [
          2805,
          7000,
          336600,
          840000
         ],
         "yaxis": "y"
        },
        {
         "alignmentgroup": "True",
         "hovertemplate": "Produto=Mouse<br>Vendedor=%{x}<br>Quantidade/Valor=%{y}<extra></extra>",
         "legendgroup": "Mouse",
         "marker": {
          "color": "#B6E880",
          "pattern": {
           "shape": ""
          }
         },
         "name": "Mouse",
         "offsetgroup": "Mouse",
         "orientation": "v",
         "showlegend": true,
         "textposition": "auto",
         "type": "bar",
         "x": [
          "Francisco",
          "Francisco"
         ],
         "xaxis": "x",
         "y": [
          970,
          59880
         ],
         "yaxis": "y"
        },
        {
         "alignmentgroup": "True",
         "hovertemplate": "Produto=Caixa de som<br>Vendedor=%{x}<br>Quantidade/Valor=%{y}<extra></extra>",
         "legendgroup": "Caixa de som",
         "marker": {
          "color": "#FF97FF",
          "pattern": {
           "shape": ""
          }
         },
         "name": "Caixa de som",
         "offsetgroup": "Caixa de som",
         "orientation": "v",
         "showlegend": true,
         "textposition": "auto",
         "type": "bar",
         "x": [
          "Guilherme",
          "Mariana",
          "Guilherme",
          "Mariana"
         ],
         "xaxis": "x",
         "y": [
          630,
          80,
          50400,
          6400
         ],
         "yaxis": "y"
        },
        {
         "alignmentgroup": "True",
         "hovertemplate": "Produto=Mangá<br>Vendedor=%{x}<br>Quantidade/Valor=%{y}<extra></extra>",
         "legendgroup": "Mangá",
         "marker": {
          "color": "#FECB52",
          "pattern": {
           "shape": ""
          }
         },
         "name": "Mangá",
         "offsetgroup": "Mangá",
         "orientation": "v",
         "showlegend": true,
         "textposition": "auto",
         "type": "bar",
         "x": [
          "Mariana",
          "Mariana"
         ],
         "xaxis": "x",
         "y": [
          260,
          7800
         ],
         "yaxis": "y"
        },
        {
         "alignmentgroup": "True",
         "hovertemplate": "Produto=Bolsa<br>Vendedor=%{x}<br>Quantidade/Valor=%{y}<extra></extra>",
         "legendgroup": "Bolsa",
         "marker": {
          "color": "#636efa",
          "pattern": {
           "shape": ""
          }
         },
         "name": "Bolsa",
         "offsetgroup": "Bolsa",
         "orientation": "v",
         "showlegend": true,
         "textposition": "auto",
         "type": "bar",
         "x": [
          "Sergio",
          "Sergio"
         ],
         "xaxis": "x",
         "y": [
          60,
          3000
         ],
         "yaxis": "y"
        }
       ],
       "layout": {
        "barmode": "group",
        "legend": {
         "title": {
          "text": "Produto"
         },
         "tracegroupgap": 0
        },
        "template": {
         "data": {
          "bar": [
           {
            "error_x": {
             "color": "#2a3f5f"
            },
            "error_y": {
             "color": "#2a3f5f"
            },
            "marker": {
             "line": {
              "color": "#E5ECF6",
              "width": 0.5
             },
             "pattern": {
              "fillmode": "overlay",
              "size": 10,
              "solidity": 0.2
             }
            },
            "type": "bar"
           }
          ],
          "barpolar": [
           {
            "marker": {
             "line": {
              "color": "#E5ECF6",
              "width": 0.5
             },
             "pattern": {
              "fillmode": "overlay",
              "size": 10,
              "solidity": 0.2
             }
            },
            "type": "barpolar"
           }
          ],
          "carpet": [
           {
            "aaxis": {
             "endlinecolor": "#2a3f5f",
             "gridcolor": "white",
             "linecolor": "white",
             "minorgridcolor": "white",
             "startlinecolor": "#2a3f5f"
            },
            "baxis": {
             "endlinecolor": "#2a3f5f",
             "gridcolor": "white",
             "linecolor": "white",
             "minorgridcolor": "white",
             "startlinecolor": "#2a3f5f"
            },
            "type": "carpet"
           }
          ],
          "choropleth": [
           {
            "colorbar": {
             "outlinewidth": 0,
             "ticks": ""
            },
            "type": "choropleth"
           }
          ],
          "contour": [
           {
            "colorbar": {
             "outlinewidth": 0,
             "ticks": ""
            },
            "colorscale": [
             [
              0,
              "#0d0887"
             ],
             [
              0.1111111111111111,
              "#46039f"
             ],
             [
              0.2222222222222222,
              "#7201a8"
             ],
             [
              0.3333333333333333,
              "#9c179e"
             ],
             [
              0.4444444444444444,
              "#bd3786"
             ],
             [
              0.5555555555555556,
              "#d8576b"
             ],
             [
              0.6666666666666666,
              "#ed7953"
             ],
             [
              0.7777777777777778,
              "#fb9f3a"
             ],
             [
              0.8888888888888888,
              "#fdca26"
             ],
             [
              1,
              "#f0f921"
             ]
            ],
            "type": "contour"
           }
          ],
          "contourcarpet": [
           {
            "colorbar": {
             "outlinewidth": 0,
             "ticks": ""
            },
            "type": "contourcarpet"
           }
          ],
          "heatmap": [
           {
            "colorbar": {
             "outlinewidth": 0,
             "ticks": ""
            },
            "colorscale": [
             [
              0,
              "#0d0887"
             ],
             [
              0.1111111111111111,
              "#46039f"
             ],
             [
              0.2222222222222222,
              "#7201a8"
             ],
             [
              0.3333333333333333,
              "#9c179e"
             ],
             [
              0.4444444444444444,
              "#bd3786"
             ],
             [
              0.5555555555555556,
              "#d8576b"
             ],
             [
              0.6666666666666666,
              "#ed7953"
             ],
             [
              0.7777777777777778,
              "#fb9f3a"
             ],
             [
              0.8888888888888888,
              "#fdca26"
             ],
             [
              1,
              "#f0f921"
             ]
            ],
            "type": "heatmap"
           }
          ],
          "heatmapgl": [
           {
            "colorbar": {
             "outlinewidth": 0,
             "ticks": ""
            },
            "colorscale": [
             [
              0,
              "#0d0887"
             ],
             [
              0.1111111111111111,
              "#46039f"
             ],
             [
              0.2222222222222222,
              "#7201a8"
             ],
             [
              0.3333333333333333,
              "#9c179e"
             ],
             [
              0.4444444444444444,
              "#bd3786"
             ],
             [
              0.5555555555555556,
              "#d8576b"
             ],
             [
              0.6666666666666666,
              "#ed7953"
             ],
             [
              0.7777777777777778,
              "#fb9f3a"
             ],
             [
              0.8888888888888888,
              "#fdca26"
             ],
             [
              1,
              "#f0f921"
             ]
            ],
            "type": "heatmapgl"
           }
          ],
          "histogram": [
           {
            "marker": {
             "pattern": {
              "fillmode": "overlay",
              "size": 10,
              "solidity": 0.2
             }
            },
            "type": "histogram"
           }
          ],
          "histogram2d": [
           {
            "colorbar": {
             "outlinewidth": 0,
             "ticks": ""
            },
            "colorscale": [
             [
              0,
              "#0d0887"
             ],
             [
              0.1111111111111111,
              "#46039f"
             ],
             [
              0.2222222222222222,
              "#7201a8"
             ],
             [
              0.3333333333333333,
              "#9c179e"
             ],
             [
              0.4444444444444444,
              "#bd3786"
             ],
             [
              0.5555555555555556,
              "#d8576b"
             ],
             [
              0.6666666666666666,
              "#ed7953"
             ],
             [
              0.7777777777777778,
              "#fb9f3a"
             ],
             [
              0.8888888888888888,
              "#fdca26"
             ],
             [
              1,
              "#f0f921"
             ]
            ],
            "type": "histogram2d"
           }
          ],
          "histogram2dcontour": [
           {
            "colorbar": {
             "outlinewidth": 0,
             "ticks": ""
            },
            "colorscale": [
             [
              0,
              "#0d0887"
             ],
             [
              0.1111111111111111,
              "#46039f"
             ],
             [
              0.2222222222222222,
              "#7201a8"
             ],
             [
              0.3333333333333333,
              "#9c179e"
             ],
             [
              0.4444444444444444,
              "#bd3786"
             ],
             [
              0.5555555555555556,
              "#d8576b"
             ],
             [
              0.6666666666666666,
              "#ed7953"
             ],
             [
              0.7777777777777778,
              "#fb9f3a"
             ],
             [
              0.8888888888888888,
              "#fdca26"
             ],
             [
              1,
              "#f0f921"
             ]
            ],
            "type": "histogram2dcontour"
           }
          ],
          "mesh3d": [
           {
            "colorbar": {
             "outlinewidth": 0,
             "ticks": ""
            },
            "type": "mesh3d"
           }
          ],
          "parcoords": [
           {
            "line": {
             "colorbar": {
              "outlinewidth": 0,
              "ticks": ""
             }
            },
            "type": "parcoords"
           }
          ],
          "pie": [
           {
            "automargin": true,
            "type": "pie"
           }
          ],
          "scatter": [
           {
            "fillpattern": {
             "fillmode": "overlay",
             "size": 10,
             "solidity": 0.2
            },
            "type": "scatter"
           }
          ],
          "scatter3d": [
           {
            "line": {
             "colorbar": {
              "outlinewidth": 0,
              "ticks": ""
             }
            },
            "marker": {
             "colorbar": {
              "outlinewidth": 0,
              "ticks": ""
             }
            },
            "type": "scatter3d"
           }
          ],
          "scattercarpet": [
           {
            "marker": {
             "colorbar": {
              "outlinewidth": 0,
              "ticks": ""
             }
            },
            "type": "scattercarpet"
           }
          ],
          "scattergeo": [
           {
            "marker": {
             "colorbar": {
              "outlinewidth": 0,
              "ticks": ""
             }
            },
            "type": "scattergeo"
           }
          ],
          "scattergl": [
           {
            "marker": {
             "colorbar": {
              "outlinewidth": 0,
              "ticks": ""
             }
            },
            "type": "scattergl"
           }
          ],
          "scattermapbox": [
           {
            "marker": {
             "colorbar": {
              "outlinewidth": 0,
              "ticks": ""
             }
            },
            "type": "scattermapbox"
           }
          ],
          "scatterpolar": [
           {
            "marker": {
             "colorbar": {
              "outlinewidth": 0,
              "ticks": ""
             }
            },
            "type": "scatterpolar"
           }
          ],
          "scatterpolargl": [
           {
            "marker": {
             "colorbar": {
              "outlinewidth": 0,
              "ticks": ""
             }
            },
            "type": "scatterpolargl"
           }
          ],
          "scatterternary": [
           {
            "marker": {
             "colorbar": {
              "outlinewidth": 0,
              "ticks": ""
             }
            },
            "type": "scatterternary"
           }
          ],
          "surface": [
           {
            "colorbar": {
             "outlinewidth": 0,
             "ticks": ""
            },
            "colorscale": [
             [
              0,
              "#0d0887"
             ],
             [
              0.1111111111111111,
              "#46039f"
             ],
             [
              0.2222222222222222,
              "#7201a8"
             ],
             [
              0.3333333333333333,
              "#9c179e"
             ],
             [
              0.4444444444444444,
              "#bd3786"
             ],
             [
              0.5555555555555556,
              "#d8576b"
             ],
             [
              0.6666666666666666,
              "#ed7953"
             ],
             [
              0.7777777777777778,
              "#fb9f3a"
             ],
             [
              0.8888888888888888,
              "#fdca26"
             ],
             [
              1,
              "#f0f921"
             ]
            ],
            "type": "surface"
           }
          ],
          "table": [
           {
            "cells": {
             "fill": {
              "color": "#EBF0F8"
             },
             "line": {
              "color": "white"
             }
            },
            "header": {
             "fill": {
              "color": "#C8D4E3"
             },
             "line": {
              "color": "white"
             }
            },
            "type": "table"
           }
          ]
         },
         "layout": {
          "annotationdefaults": {
           "arrowcolor": "#2a3f5f",
           "arrowhead": 0,
           "arrowwidth": 1
          },
          "autotypenumbers": "strict",
          "coloraxis": {
           "colorbar": {
            "outlinewidth": 0,
            "ticks": ""
           }
          },
          "colorscale": {
           "diverging": [
            [
             0,
             "#8e0152"
            ],
            [
             0.1,
             "#c51b7d"
            ],
            [
             0.2,
             "#de77ae"
            ],
            [
             0.3,
             "#f1b6da"
            ],
            [
             0.4,
             "#fde0ef"
            ],
            [
             0.5,
             "#f7f7f7"
            ],
            [
             0.6,
             "#e6f5d0"
            ],
            [
             0.7,
             "#b8e186"
            ],
            [
             0.8,
             "#7fbc41"
            ],
            [
             0.9,
             "#4d9221"
            ],
            [
             1,
             "#276419"
            ]
           ],
           "sequential": [
            [
             0,
             "#0d0887"
            ],
            [
             0.1111111111111111,
             "#46039f"
            ],
            [
             0.2222222222222222,
             "#7201a8"
            ],
            [
             0.3333333333333333,
             "#9c179e"
            ],
            [
             0.4444444444444444,
             "#bd3786"
            ],
            [
             0.5555555555555556,
             "#d8576b"
            ],
            [
             0.6666666666666666,
             "#ed7953"
            ],
            [
             0.7777777777777778,
             "#fb9f3a"
            ],
            [
             0.8888888888888888,
             "#fdca26"
            ],
            [
             1,
             "#f0f921"
            ]
           ],
           "sequentialminus": [
            [
             0,
             "#0d0887"
            ],
            [
             0.1111111111111111,
             "#46039f"
            ],
            [
             0.2222222222222222,
             "#7201a8"
            ],
            [
             0.3333333333333333,
             "#9c179e"
            ],
            [
             0.4444444444444444,
             "#bd3786"
            ],
            [
             0.5555555555555556,
             "#d8576b"
            ],
            [
             0.6666666666666666,
             "#ed7953"
            ],
            [
             0.7777777777777778,
             "#fb9f3a"
            ],
            [
             0.8888888888888888,
             "#fdca26"
            ],
            [
             1,
             "#f0f921"
            ]
           ]
          },
          "colorway": [
           "#636efa",
           "#EF553B",
           "#00cc96",
           "#ab63fa",
           "#FFA15A",
           "#19d3f3",
           "#FF6692",
           "#B6E880",
           "#FF97FF",
           "#FECB52"
          ],
          "font": {
           "color": "#2a3f5f"
          },
          "geo": {
           "bgcolor": "white",
           "lakecolor": "white",
           "landcolor": "#E5ECF6",
           "showlakes": true,
           "showland": true,
           "subunitcolor": "white"
          },
          "hoverlabel": {
           "align": "left"
          },
          "hovermode": "closest",
          "mapbox": {
           "style": "light"
          },
          "paper_bgcolor": "white",
          "plot_bgcolor": "#E5ECF6",
          "polar": {
           "angularaxis": {
            "gridcolor": "white",
            "linecolor": "white",
            "ticks": ""
           },
           "bgcolor": "#E5ECF6",
           "radialaxis": {
            "gridcolor": "white",
            "linecolor": "white",
            "ticks": ""
           }
          },
          "scene": {
           "xaxis": {
            "backgroundcolor": "#E5ECF6",
            "gridcolor": "white",
            "gridwidth": 2,
            "linecolor": "white",
            "showbackground": true,
            "ticks": "",
            "zerolinecolor": "white"
           },
           "yaxis": {
            "backgroundcolor": "#E5ECF6",
            "gridcolor": "white",
            "gridwidth": 2,
            "linecolor": "white",
            "showbackground": true,
            "ticks": "",
            "zerolinecolor": "white"
           },
           "zaxis": {
            "backgroundcolor": "#E5ECF6",
            "gridcolor": "white",
            "gridwidth": 2,
            "linecolor": "white",
            "showbackground": true,
            "ticks": "",
            "zerolinecolor": "white"
           }
          },
          "shapedefaults": {
           "line": {
            "color": "#2a3f5f"
           }
          },
          "ternary": {
           "aaxis": {
            "gridcolor": "white",
            "linecolor": "white",
            "ticks": ""
           },
           "baxis": {
            "gridcolor": "white",
            "linecolor": "white",
            "ticks": ""
           },
           "bgcolor": "#E5ECF6",
           "caxis": {
            "gridcolor": "white",
            "linecolor": "white",
            "ticks": ""
           }
          },
          "title": {
           "x": 0.05
          },
          "xaxis": {
           "automargin": true,
           "gridcolor": "white",
           "linecolor": "white",
           "ticks": "",
           "title": {
            "standoff": 15
           },
           "zerolinecolor": "white",
           "zerolinewidth": 2
          },
          "yaxis": {
           "automargin": true,
           "gridcolor": "white",
           "linecolor": "white",
           "ticks": "",
           "title": {
            "standoff": 15
           },
           "zerolinecolor": "white",
           "zerolinewidth": 2
          }
         }
        },
        "title": {
         "text": "Vendas por Vendedor e Produto"
        },
        "xaxis": {
         "anchor": "y",
         "domain": [
          0,
          1
         ],
         "tickangle": -45,
         "title": {
          "text": "Vendedor"
         }
        },
        "yaxis": {
         "anchor": "x",
         "domain": [
          0,
          1
         ],
         "title": {
          "text": "Quantidade/Valor"
         }
        }
       }
      }
     },
     "metadata": {},
     "output_type": "display_data"
    }
   ],
   "source": [
    "fig = px.bar(\n",
    "    vendas_por_vendedor_produto, \n",
    "    x=\"Vendedor\", \n",
    "    y=[\"Quantidade_Vendida\", \"Valor_Total\"], \n",
    "    barmode=\"group\", \n",
    "    color=\"Produto\",\n",
    "    title=\"Vendas por Vendedor e Produto\",\n",
    "    labels={\"value\": \"Quantidade/Valor\", \"variable\": \"Métrica\"},\n",
    ")\n",
    "\n",
    "# Personalizando o layout\n",
    "fig.update_layout(\n",
    "    xaxis_tickangle=-45,  # Rotacionando os rótulos do eixo x\n",
    "    yaxis_title=\"Quantidade/Valor\",\n",
    "    legend_title=\"Produto\",\n",
    ")\n",
    "\n",
    "fig.show()"
   ]
  }
 ],
 "metadata": {
  "kernelspec": {
   "display_name": "Python 3",
   "language": "python",
   "name": "python3"
  },
  "language_info": {
   "codemirror_mode": {
    "name": "ipython",
    "version": 3
   },
   "file_extension": ".py",
   "mimetype": "text/x-python",
   "name": "python",
   "nbconvert_exporter": "python",
   "pygments_lexer": "ipython3",
   "version": "3.12.3"
  }
 },
 "nbformat": 4,
 "nbformat_minor": 2
}
